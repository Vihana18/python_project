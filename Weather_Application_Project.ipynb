{
  "nbformat": 4,
  "nbformat_minor": 0,
  "metadata": {
    "colab": {
      "provenance": [],
      "include_colab_link": true
    },
    "kernelspec": {
      "name": "python3",
      "display_name": "Python 3"
    },
    "language_info": {
      "name": "python"
    }
  },
  "cells": [
    {
      "cell_type": "markdown",
      "metadata": {
        "id": "view-in-github",
        "colab_type": "text"
      },
      "source": [
        "<a href=\"https://colab.research.google.com/github/Vihana18/python_project/blob/main/Weather_Application_Project.ipynb\" target=\"_parent\"><img src=\"https://colab.research.google.com/assets/colab-badge.svg\" alt=\"Open In Colab\"/></a>"
      ]
    },
    {
      "cell_type": "code",
      "source": [
        "import requests\n",
        "response = requests.get(\"https://api.openweathermap.org/data/2.5/weather?q=Dubai&appid=08d2881b32d1acf681b1c941a87a47cb&units=metric\")\n",
        "print(response.json())"
      ],
      "metadata": {
        "id": "O8qPx9TOc28r",
        "outputId": "01924d06-23cc-4025-9568-5cbfb2ba47f4",
        "colab": {
          "base_uri": "https://localhost:8080/"
        }
      },
      "execution_count": null,
      "outputs": [
        {
          "output_type": "stream",
          "name": "stdout",
          "text": [
            "{'coord': {'lon': 55.3047, 'lat': 25.2582}, 'weather': [{'id': 800, 'main': 'Clear', 'description': 'clear sky', 'icon': '01d'}], 'base': 'stations', 'main': {'temp': 42, 'feels_like': 49, 'temp_min': 41.96, 'temp_max': 43.16, 'pressure': 995, 'humidity': 42}, 'visibility': 10000, 'wind': {'speed': 5.66, 'deg': 320}, 'clouds': {'all': 0}, 'dt': 1691054686, 'sys': {'type': 1, 'id': 7537, 'country': 'AE', 'sunrise': 1691027195, 'sunset': 1691075001}, 'timezone': 14400, 'id': 292223, 'name': 'Dubai', 'cod': 200}\n"
          ]
        }
      ]
    },
    {
      "cell_type": "code",
      "source": [
        "import requests\n",
        "\n",
        "def get_weather(city):\n",
        "   url = f\"https://api.openweathermap.org/data/2.5/weather?q={city}&appid=79007029562c2ab46617d801d8018750&units=metric\"\n",
        "\n",
        "   try:\n",
        "       response= requests.get(url)\n",
        "       weather_data = response.json()\n",
        "\n",
        "       temperature = weather_data[\"main\"][\"temp\"]\n",
        "       humidity = weather_data[\"main\"][\"humidity\"]\n",
        "       max_temp = weather_data[\"main\"][\"temp_max\"]\n",
        "       min_temp = weather_data[\"main\"][\"temp_min\"]\n",
        "       wind_speed = weather_data[\"wind\"][\"speed\"]\n",
        "       description = weather_data[\"weather\"][0][\"description\"]\n",
        "\n",
        "\n",
        "       print(f\"Weather in {city} -\")\n",
        "       print(f\"Temperature: {temperature}°C\")\n",
        "       print(f\"Humidity : {humidity}%\")\n",
        "       print(f\"Max Temperature: {max_temp}°C\")\n",
        "       print(f\"Min Temperature: {min_temp}°C\")\n",
        "       print(f\"Wind Speed: {wind_speed} m/s\")\n",
        "       print(f\"Description: {description}\")\n",
        "\n",
        "   except requests.exceptions.RequestException:\n",
        "        print(\"Error occured\")\n",
        "\n",
        "\n",
        "#usage\n",
        "city_name = input(\"Enter the name of city: \")\n",
        "#call function\n",
        "get_weather(city_name)"
      ],
      "metadata": {
        "id": "SGkcxKbv2eSY",
        "colab": {
          "base_uri": "https://localhost:8080/"
        },
        "outputId": "4d6e408b-3142-40d0-d623-4312918b6b76"
      },
      "execution_count": null,
      "outputs": [
        {
          "output_type": "stream",
          "name": "stdout",
          "text": [
            "Enter the name of city: Paris\n",
            "Weather in Paris:\n",
            "Temperature: 17.63°C\n",
            "Humidity : 84%\n",
            "Max Temperature: 18.34°C\n",
            "Min Temperature: 16.81°C\n",
            "Wind Speed: 6.69 m/s\n",
            "Description: overcast clouds.\n"
          ]
        }
      ]
    },
    {
      "cell_type": "code",
      "source": [
        "#https://www.gradio.app/guides/quickstart\n"
      ],
      "metadata": {
        "id": "T1lrCC6qLfL4"
      },
      "execution_count": null,
      "outputs": []
    },
    {
      "cell_type": "code",
      "source": [
        "pip install gradio"
      ],
      "metadata": {
        "id": "oXekoPtnibJ2"
      },
      "execution_count": null,
      "outputs": []
    },
    {
      "cell_type": "code",
      "source": [
        "import gradio as gr\n",
        "import requests\n",
        "\n",
        "def get_weather(city):\n",
        "    url = f\"https://api.openweathermap.org/data/2.5/weather?q={city}&appid=79007029562c2ab46617d801d8018750&units=metric\"\n",
        "    response = requests.get(url)\n",
        "    data = response.json()\n",
        "    if data[\"cod\"] == 200:\n",
        "        temp = data[\"main\"][\"temp\"]\n",
        "        description = data[\"weather\"][0][\"description\"]\n",
        "        humidity = data[\"main\"][\"humidity\"]\n",
        "        feels_like = data[\"main\"][\"feels_like\"]\n",
        "        return f\"The current temperature in {city} is {temp}°C but feels like {feels_like}°C, with {humidity}% humidity and {description}.\"\n",
        "    else:\n",
        "        return \"Sorry, I couldn't find weather information for that city.\"\n",
        "\n",
        "iface = gr.Interface(fn=get_weather, inputs=\"text\", outputs=\"text\")\n",
        "iface.launch(share=True)\n"
      ],
      "metadata": {
        "id": "MyKDmQYxiZ6P",
        "outputId": "631964c6-5708-48cf-93ec-2c6c1486b182",
        "colab": {
          "base_uri": "https://localhost:8080/",
          "height": 609
        }
      },
      "execution_count": null,
      "outputs": [
        {
          "output_type": "stream",
          "name": "stdout",
          "text": [
            "Colab notebook detected. To show errors in colab notebook, set debug=True in launch()\n",
            "Running on public URL: https://063f7e460a9fc5a3ca.gradio.live\n",
            "\n",
            "This share link expires in 72 hours. For free permanent hosting and GPU upgrades, run `gradio deploy` from Terminal to deploy to Spaces (https://huggingface.co/spaces)\n"
          ]
        },
        {
          "output_type": "display_data",
          "data": {
            "text/plain": [
              "<IPython.core.display.HTML object>"
            ],
            "text/html": [
              "<div><iframe src=\"https://063f7e460a9fc5a3ca.gradio.live\" width=\"100%\" height=\"500\" allow=\"autoplay; camera; microphone; clipboard-read; clipboard-write;\" frameborder=\"0\" allowfullscreen></iframe></div>"
            ]
          },
          "metadata": {}
        },
        {
          "output_type": "execute_result",
          "data": {
            "text/plain": []
          },
          "metadata": {},
          "execution_count": 7
        }
      ]
    }
  ]
}