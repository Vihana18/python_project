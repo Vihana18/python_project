{
  "nbformat": 4,
  "nbformat_minor": 0,
  "metadata": {
    "colab": {
      "provenance": [],
      "authorship_tag": "ABX9TyOZDmgOxoGeGq+jrso+vgmK",
      "include_colab_link": true
    },
    "kernelspec": {
      "name": "python3",
      "display_name": "Python 3"
    },
    "language_info": {
      "name": "python"
    }
  },
  "cells": [
    {
      "cell_type": "markdown",
      "metadata": {
        "id": "view-in-github",
        "colab_type": "text"
      },
      "source": [
        "<a href=\"https://colab.research.google.com/github/Vihana18/python_project/blob/main/Simple_Calculator_Project.ipynb\" target=\"_parent\"><img src=\"https://colab.research.google.com/assets/colab-badge.svg\" alt=\"Open In Colab\"/></a>"
      ]
    },
    {
      "cell_type": "code",
      "source": [
        "pip install gradio"
      ],
      "metadata": {
        "id": "OzGMS45WVzkg"
      },
      "execution_count": null,
      "outputs": []
    },
    {
      "cell_type": "code",
      "execution_count": null,
      "metadata": {
        "id": "il06iQbmaN79"
      },
      "outputs": [],
      "source": [
        "import gradio as gr\n",
        "\n",
        "def calculator(operation, num1, num2):\n",
        "    if operation == \"+\":\n",
        "        result = num1 + num2\n",
        "    elif operation == \"-\":\n",
        "        result = num1 - num2\n",
        "    elif operation == \"*\":\n",
        "        result = num1 * num2\n",
        "    elif operation == \"/\":\n",
        "        if num2 != 0:  # Add a check to prevent division by zero\n",
        "            result = num1 / num2\n",
        "        else:\n",
        "            return \"Error: Division by zero is not allowed.\"\n",
        "    else:\n",
        "        return f\"ERROR! '{operation}' is invalid. Please try again.\"\n",
        "\n",
        "    return result\n",
        "\n",
        "iface = gr.Interface(\n",
        "    fn=calculator,\n",
        "    inputs=[\"text\", \"number\", \"number\"],\n",
        "    outputs=\"number\"\n",
        ")\n",
        "\n",
        "iface.launch(share=True)"
      ]
    }
  ]
}