{
  "nbformat": 4,
  "nbformat_minor": 0,
  "metadata": {
    "colab": {
      "provenance": [],
      "authorship_tag": "ABX9TyPqevmLIxkxP9zm3Z1kPVPK",
      "include_colab_link": true
    },
    "kernelspec": {
      "name": "python3",
      "display_name": "Python 3"
    },
    "language_info": {
      "name": "python"
    }
  },
  "cells": [
    {
      "cell_type": "markdown",
      "metadata": {
        "id": "view-in-github",
        "colab_type": "text"
      },
      "source": [
        "<a href=\"https://colab.research.google.com/github/Vihana18/python_project/blob/main/EMI_Calculator_Project.ipynb\" target=\"_parent\"><img src=\"https://colab.research.google.com/assets/colab-badge.svg\" alt=\"Open In Colab\"/></a>"
      ]
    },
    {
      "cell_type": "code",
      "source": [
        "def loan_emi(amount, duration, rate, down_payment=0):\n",
        " loan_amount= amount - down_payment\n",
        " emi = loan_amount *rate* ((1+rate)**duration) / (((1+rate) ** duration) -1)\n",
        " return emi"
      ],
      "metadata": {
        "id": "q73o1ML5HBkp"
      },
      "execution_count": 15,
      "outputs": []
    },
    {
      "cell_type": "code",
      "execution_count": 23,
      "metadata": {
        "colab": {
          "base_uri": "https://localhost:8080/"
        },
        "id": "Z4G7fr4rFa29",
        "outputId": "3ad7c459-86d1-4685-e8c5-3a729a82c01f"
      },
      "outputs": [
        {
          "output_type": "execute_result",
          "data": {
            "text/plain": [
              "10229.403883181738"
            ]
          },
          "metadata": {},
          "execution_count": 23
        }
      ],
      "source": [
        "cost_of_home = 800000\n",
        "home_loan_duration = 6*12 #months\n",
        "home_loan_intrest_rate = 0.07/12 #months\n",
        "home_down_payment= .25*800000\n",
        "emi_home = loan_emi(amount = cost_of_home,\n",
        "                    duration = home_loan_duration,\n",
        "                    rate = home_loan_intrest_rate,\n",
        "                    down_payment = home_down_payment)\n",
        "emi_home"
      ]
    },
    {
      "cell_type": "code",
      "source": [
        "cost_of_car = 60000\n",
        "car_loan_duration = 1*12\n",
        "car_loan_intrest_rate = 0.12/12\n",
        "emi_car = loan_emi(amount = cost_of_car,\n",
        "                    duration = car_loan_duration,\n",
        "                    rate = car_loan_intrest_rate,)\n",
        "emi_car"
      ],
      "metadata": {
        "colab": {
          "base_uri": "https://localhost:8080/"
        },
        "id": "7j12EhV9Qd2i",
        "outputId": "ea5eec65-b286-4403-c947-e1514e1e5cae"
      },
      "execution_count": 18,
      "outputs": [
        {
          "output_type": "execute_result",
          "data": {
            "text/plain": [
              "5330.9273207005"
            ]
          },
          "metadata": {},
          "execution_count": 18
        }
      ]
    }
  ]
}